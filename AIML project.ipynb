{
 "cells": [
  {
   "cell_type": "markdown",
   "id": "a35eeb9f-df70-4ab1-a243-2d2025888eb0",
   "metadata": {},
   "source": [
    "# Introduction to the JupyterLab and Jupyter Notebooks\n",
    "\n",
    "This is a short introduction to two of the flagship tools created by [the Jupyter Community](https://jupyter.org).\n",
    "\n",
    "> **⚠️Experimental!⚠️**: This is an experimental interface provided by the [JupyterLite project](https://jupyterlite.readthedocs.io/en/latest/). It embeds an entire JupyterLab interface, with many popular packages for scientific computing, in your browser. There may be minor differences in behavior between JupyterLite and the JupyterLab you install locally. You may also encounter some bugs or unexpected behavior. To report any issues, or to get involved with the JupyterLite project, see [the JupyterLite repository](https://github.com/jupyterlite/jupyterlite/issues?q=is%3Aissue+is%3Aopen+sort%3Aupdated-desc).\n",
    "\n",
    "## JupyterLab 🧪\n",
    "\n",
    "**JupyterLab** is a next-generation web-based user interface for Project Jupyter. It enables you to work with documents and activities such as Jupyter notebooks, text editors, terminals, and custom components in a flexible, integrated, and extensible manner. It is the interface that you're looking at right now.\n",
    "\n",
    "**For an overview of the JupyterLab interface**, see the **JupyterLab Welcome Tour** on this page, by going to `Help -> Welcome Tour` and following the prompts.\n",
    "\n",
    "> **See Also**: For a more in-depth tour of JupyterLab with a full environment that runs in the cloud, see [the JupyterLab introduction on Binder](https://mybinder.org/v2/gh/jupyterlab/jupyterlab-demo/HEAD?urlpath=lab/tree/demo).\n",
    "\n",
    "## Jupyter Notebooks 📓\n",
    "\n",
    "**Jupyter Notebooks** are a community standard for communicating and performing interactive computing. They are a document that blends computations, outputs, explanatory text, mathematics, images, and rich media representations of objects.\n",
    "\n",
    "JupyterLab is one interface used to create and interact with Jupyter Notebooks.\n",
    "\n",
    "**For an overview of Jupyter Notebooks**, see the **JupyterLab Welcome Tour** on this page, by going to `Help -> Notebook Tour` and following the prompts.\n",
    "\n",
    "> **See Also**: For a more in-depth tour of Jupyter Notebooks and the Classic Jupyter Notebook interface, see [the Jupyter Notebook IPython tutorial on Binder](https://mybinder.org/v2/gh/ipython/ipython-in-depth/HEAD?urlpath=tree/binder/Index.ipynb).\n",
    "\n",
    "## An example: visualizing data in the notebook ✨\n",
    "\n",
    "Below is an example of a code cell. We'll visualize some simple data using two popular packages in Python. We'll use [NumPy](https://numpy.org/) to create some random data, and [Matplotlib](https://matplotlib.org) to visualize it.\n",
    "\n",
    "Note how the code and the results of running the code are bundled together."
   ]
  },
  {
   "cell_type": "markdown",
   "id": "b9670d85-ef29-4dfd-b4b5-e76d279c1f1a",
   "metadata": {},
   "source": [
    "## Next steps 🏃\n",
    "\n",
    "This is just a short introduction to JupyterLab and Jupyter Notebooks. See below for some more ways to interact with tools in the Jupyter ecosystem, and its community.\n",
    "\n",
    "### Other notebooks in this demo\n",
    "\n",
    "Here are some other notebooks in this demo. Each of the items below corresponds to a file or folder in the **file browser to the left**.\n",
    "\n",
    "- [**`Lorenz.ipynb`**](Lorenz.ipynb) uses Python to demonstrate interactive visualizations and computations around the [Lorenz system](https://en.wikipedia.org/wiki/Lorenz_system). It shows off basic Python functionality, including more visualizations, data structures, and scientific computing libraries.\n",
    "- [**`sqlite.ipynb`**](sqlite.ipynb) demonstrates how an in-browser sqlite kernel to run your own SQL commands from the notebook. It uses the [jupyterlite/xeus-sqlite-kernel](https://github.com/jupyterlite/xeus-sqlite-kernel).\n",
    "\n",
    "### Other sources of information in Jupyter\n",
    "\n",
    "- **More on using JupyterLab**: See [the JupyterLab documentation](https://jupyterlab.readthedocs.io/en/stable/) for more thorough information about how to install and use JupyterLab.\n",
    "- **More interactive demos**: See [try.jupyter.org](https://try.jupyter.org) for more interactive demos with the Jupyter ecosystem.\n",
    "- **Learn more about Jupyter**: See [the Jupyter community documentation](https://docs.jupyter.org) to learn more about the project, its community and tools, and how to get involved.\n",
    "- **Join our discussions**: The [Jupyter Community Forum](https://discourse.jupyter.org) is a place where many in the Jupyter community ask questions, help one another, and discuss issues around interactive computing and our ecosystem."
   ]
  },
  {
   "cell_type": "code",
   "execution_count": 4,
   "id": "820d61d0-601c-49d5-bb51-7313b9a2412e",
   "metadata": {},
   "outputs": [
    {
     "name": "stdout",
     "output_type": "stream",
     "text": [
      "F1 Score: 0.8486895514267792\n",
      "Confusion Matrix:\n",
      "[[4361  600]\n",
      " [ 912 4127]]\n",
      "Classification Report:\n",
      "              precision    recall  f1-score   support\n",
      "\n",
      "    negative       0.83      0.88      0.85      4961\n",
      "    positive       0.87      0.82      0.85      5039\n",
      "\n",
      "    accuracy                           0.85     10000\n",
      "   macro avg       0.85      0.85      0.85     10000\n",
      "weighted avg       0.85      0.85      0.85     10000\n",
      "\n"
     ]
    }
   ],
   "source": [
    "# Import necessary libraries\n",
    "import pandas as pd\n",
    "from sklearn.model_selection import train_test_split\n",
    "from sklearn.feature_extraction.text import CountVectorizer\n",
    "from sklearn.naive_bayes import MultinomialNB\n",
    "from sklearn.metrics import classification_report, confusion_matrix, f1_score\n",
    "\n",
    "# Load the dataset (assuming it's in CSV format)\n",
    "# Replace 'your_dataset.csv' with the actual path to your dataset\n",
    "data = pd.read_csv('\"D:\\SEM 4\\AIML\\IMDB Dataset.csv\"')\n",
    "\n",
    "# Perform data cleaning and preprocessing (if necessary)\n",
    "\n",
    "# Split the data into training and testing sets\n",
    "X_train, X_test, y_train, y_test = train_test_split(data['review'], data['sentiment'], test_size=0.2, random_state=42)\n",
    "\n",
    "# Vectorize the text data using Count Vectorization\n",
    "vectorizer = CountVectorizer()\n",
    "X_train_counts = vectorizer.fit_transform(X_train)\n",
    "X_test_counts = vectorizer.transform(X_test)\n",
    "\n",
    "# Build the classifier model (using Naive Bayes as an example)\n",
    "classifier = MultinomialNB()\n",
    "classifier.fit(X_train_counts, y_train)\n",
    "\n",
    "# Make predictions\n",
    "predictions = classifier.predict(X_test_counts)\n",
    "\n",
    "# Evaluate the model\n",
    "f1 = f1_score(y_test, predictions, average='weighted')\n",
    "print(\"F1 Score:\", f1)\n",
    "\n",
    "# Generate confusion matrix\n",
    "conf_matrix = confusion_matrix(y_test, predictions)\n",
    "print(\"Confusion Matrix:\")\n",
    "print(conf_matrix)\n",
    "\n",
    "# Print classification report\n",
    "print(\"Classification Report:\")\n",
    "print(classification_report(y_test, predictions))"
   ]
  },
  {
   "cell_type": "code",
   "execution_count": null,
   "id": "19e0d883",
   "metadata": {},
   "outputs": [],
   "source": []
  }
 ],
 "metadata": {
  "kernelspec": {
   "display_name": "Python 3 (ipykernel)",
   "language": "python",
   "name": "python3"
  },
  "language_info": {
   "codemirror_mode": {
    "name": "ipython",
    "version": 3
   },
   "file_extension": ".py",
   "mimetype": "text/x-python",
   "name": "python",
   "nbconvert_exporter": "python",
   "pygments_lexer": "ipython3",
   "version": "3.11.7"
  }
 },
 "nbformat": 4,
 "nbformat_minor": 5
}
